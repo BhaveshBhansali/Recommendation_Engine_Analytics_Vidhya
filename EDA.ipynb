{
 "cells": [
  {
   "cell_type": "code",
   "execution_count": 1,
   "metadata": {},
   "outputs": [],
   "source": [
    "import pandas as pd\n",
    "import numpy as np\n",
    "import matplotlib.pyplot as plt\n",
    "%matplotlib inline\n",
    "import seaborn as sns\n",
    "import itertools"
   ]
  },
  {
   "cell_type": "code",
   "execution_count": 2,
   "metadata": {},
   "outputs": [
    {
     "name": "stdout",
     "output_type": "stream",
     "text": [
      "     user_id problem_id  attempts_range\n",
      "0   user_232  prob_6507               1\n",
      "1  user_3568  prob_2994               3\n",
      "2  user_1600  prob_5071               1\n",
      "3  user_2256   prob_703               1\n",
      "4  user_2321   prob_356               1\n",
      "\n",
      " Shape of train data: (155295, 3)\n",
      "\n",
      " Null count: \n",
      "user_id           0\n",
      "problem_id        0\n",
      "attempts_range    0\n",
      "dtype: int64\n"
     ]
    }
   ],
   "source": [
    "train_df=pd.read_csv(\"train_submissions.csv\")\n",
    "print(train_df.head())\n",
    "print(\"\\n Shape of train data: \"+str(train_df.shape))\n",
    "print(\"\\n Null count: \\n\"+str(train_df.isnull().sum()))"
   ]
  },
  {
   "cell_type": "code",
   "execution_count": 3,
   "metadata": {},
   "outputs": [
    {
     "name": "stdout",
     "output_type": "stream",
     "text": [
      "                    ID    user_id problem_id\n",
      "0   user_856_prob_5822   user_856  prob_5822\n",
      "1  user_2642_prob_2334  user_2642  prob_2334\n",
      "2  user_2557_prob_2920  user_2557  prob_2920\n",
      "3  user_1572_prob_4598  user_1572  prob_4598\n",
      "4   user_295_prob_6139   user_295  prob_6139\n",
      "\n",
      " Shape of test data: (66555, 3)\n",
      "\n",
      " Null count: \n",
      "ID            0\n",
      "user_id       0\n",
      "problem_id    0\n",
      "dtype: int64\n"
     ]
    }
   ],
   "source": [
    "test_df=pd.read_csv(\"test_submissions.csv\")\n",
    "print(test_df.head())\n",
    "print(\"\\n Shape of test data: \"+str(test_df.shape))\n",
    "print(\"\\n Null count: \\n\"+str(test_df.isnull().sum()))"
   ]
  },
  {
   "cell_type": "code",
   "execution_count": 4,
   "metadata": {},
   "outputs": [
    {
     "name": "stdout",
     "output_type": "stream",
     "text": [
      "  problem_id level_type  points                                 tags\n",
      "0  prob_3649          H     NaN                                  NaN\n",
      "1  prob_6191          A     NaN                                  NaN\n",
      "2  prob_2020          F     NaN                                  NaN\n",
      "3   prob_313          A   500.0                greedy,implementation\n",
      "4   prob_101          A   500.0  constructive algorithms,greedy,math\n",
      "\n",
      " Shape of problem data: (6544, 4)\n",
      "\n",
      " Null count: \n",
      "problem_id       0\n",
      "level_type     133\n",
      "points        3917\n",
      "tags          3484\n",
      "dtype: int64\n"
     ]
    }
   ],
   "source": [
    "problem_data_df=pd.read_csv(\"problem_data.csv\")\n",
    "print(problem_data_df.head())\n",
    "print(\"\\n Shape of problem data: \"+str(problem_data_df.shape))\n",
    "print(\"\\n Null count: \\n\"+str(problem_data_df.isnull().sum()))"
   ]
  },
  {
   "cell_type": "code",
   "execution_count": 5,
   "metadata": {},
   "outputs": [
    {
     "name": "stdout",
     "output_type": "stream",
     "text": [
      "     user_id  submission_count  problem_solved  contribution  country  \\\n",
      "0  user_3311                47              40             0      NaN   \n",
      "1  user_3028                63              52             0    India   \n",
      "2  user_2268               226             203            -8    Egypt   \n",
      "3   user_480               611             490             1  Ukraine   \n",
      "4   user_650               504             479            12   Russia   \n",
      "\n",
      "   follower_count  last_online_time_seconds  max_rating   rating  \\\n",
      "0               4                1504111645     348.337  330.849   \n",
      "1              17                1498998165     405.677  339.450   \n",
      "2              24                1505566052     307.339  284.404   \n",
      "3              94                1505257499     525.803  471.330   \n",
      "4               4                1496613433     548.739  486.525   \n",
      "\n",
      "           rank  registration_time_seconds  \n",
      "0  intermediate                 1466686436  \n",
      "1  intermediate                 1441893325  \n",
      "2      beginner                 1454267603  \n",
      "3      advanced                 1350720417  \n",
      "4      advanced                 1395560498  \n",
      "\n",
      " Shape of user data: (3571, 11)\n",
      "\n",
      " Null count: \n",
      "user_id                         0\n",
      "submission_count                0\n",
      "problem_solved                  0\n",
      "contribution                    0\n",
      "country                      1153\n",
      "follower_count                  0\n",
      "last_online_time_seconds        0\n",
      "max_rating                      0\n",
      "rating                          0\n",
      "rank                            0\n",
      "registration_time_seconds       0\n",
      "dtype: int64\n"
     ]
    }
   ],
   "source": [
    "user_data_df=pd.read_csv(\"user_data.csv\")\n",
    "print(user_data_df.head())\n",
    "print(\"\\n Shape of user data: \"+str(user_data_df.shape))\n",
    "print(\"\\n Null count: \\n\"+str(user_data_df.isnull().sum()))"
   ]
  },
  {
   "cell_type": "markdown",
   "metadata": {},
   "source": [
    "# Exploratory Data Analysis"
   ]
  },
  {
   "cell_type": "markdown",
   "metadata": {},
   "source": [
    "## Problem Data"
   ]
  },
  {
   "cell_type": "code",
   "execution_count": 6,
   "metadata": {},
   "outputs": [
    {
     "data": {
      "text/plain": [
       "6544"
      ]
     },
     "execution_count": 6,
     "metadata": {},
     "output_type": "execute_result"
    }
   ],
   "source": [
    "len(problem_data_df['problem_id'].unique())"
   ]
  },
  {
   "cell_type": "code",
   "execution_count": 7,
   "metadata": {},
   "outputs": [
    {
     "data": {
      "text/plain": [
       "15"
      ]
     },
     "execution_count": 7,
     "metadata": {},
     "output_type": "execute_result"
    }
   ],
   "source": [
    "len(problem_data_df['level_type'].unique())"
   ]
  },
  {
   "cell_type": "code",
   "execution_count": 8,
   "metadata": {},
   "outputs": [
    {
     "data": {
      "image/png": "[encoded data removed]",
      "text/plain": [
       "<Figure size 432x288 with 1 Axes>"
      ]
     },
     "metadata": {
      "needs_background": "light"
     },
     "output_type": "display_data"
    }
   ],
   "source": [
    "ax = sns.countplot(problem_data_df['level_type'])\n",
    "ax.set(ylabel='Number of level types')\n",
    "plt.show()"
   ]
  },
  {
   "cell_type": "code",
   "execution_count": 9,
   "metadata": {},
   "outputs": [
    {
     "data": {
      "text/plain": [
       "31"
      ]
     },
     "execution_count": 9,
     "metadata": {},
     "output_type": "execute_result"
    }
   ],
   "source": [
    "len(problem_data_df['points'].unique())"
   ]
  },
  {
   "cell_type": "code",
   "execution_count": 10,
   "metadata": {},
   "outputs": [
    {
     "data": {
      "text/plain": [
       "5000.0"
      ]
     },
     "execution_count": 10,
     "metadata": {},
     "output_type": "execute_result"
    }
   ],
   "source": [
    "problem_data_df['points'].max()"
   ]
  },
  {
   "cell_type": "code",
   "execution_count": 11,
   "metadata": {},
   "outputs": [
    {
     "data": {
      "text/plain": [
       "-1.0"
      ]
     },
     "execution_count": 11,
     "metadata": {},
     "output_type": "execute_result"
    }
   ],
   "source": [
    "problem_data_df['points'].min()"
   ]
  },
  {
   "cell_type": "code",
   "execution_count": 12,
   "metadata": {},
   "outputs": [
    {
     "data": {
      "text/plain": [
       "883"
      ]
     },
     "execution_count": 12,
     "metadata": {},
     "output_type": "execute_result"
    }
   ],
   "source": [
    "len(problem_data_df['tags'].unique())"
   ]
  },
  {
   "cell_type": "code",
   "execution_count": 13,
   "metadata": {},
   "outputs": [
    {
     "data": {
      "text/plain": [
       "554    NaN\n",
       "Name: tags, dtype: object"
      ]
     },
     "execution_count": 13,
     "metadata": {},
     "output_type": "execute_result"
    }
   ],
   "source": [
    "problem_data_df[problem_data_df['points']==-1.0]['tags']"
   ]
  },
  {
   "cell_type": "code",
   "execution_count": 14,
   "metadata": {},
   "outputs": [
    {
     "data": {
      "text/plain": [
       "644    binary search,graphs\n",
       "Name: tags, dtype: object"
      ]
     },
     "execution_count": 14,
     "metadata": {},
     "output_type": "execute_result"
    }
   ],
   "source": [
    "problem_data_df[problem_data_df['points']==5000.0]['tags']"
   ]
  },
  {
   "cell_type": "code",
   "execution_count": 15,
   "metadata": {},
   "outputs": [
    {
     "data": {
      "text/plain": [
       "False"
      ]
     },
     "execution_count": 15,
     "metadata": {},
     "output_type": "execute_result"
    }
   ],
   "source": [
    "problem_data_df[problem_data_df['tags'].isnull()]['points'].isnull().all()"
   ]
  },
  {
   "cell_type": "code",
   "execution_count": 16,
   "metadata": {},
   "outputs": [
    {
     "data": {
      "text/plain": [
       "False"
      ]
     },
     "execution_count": 16,
     "metadata": {},
     "output_type": "execute_result"
    }
   ],
   "source": [
    "problem_data_df[problem_data_df['points'].isnull()]['tags'].isnull().all()"
   ]
  },
  {
   "cell_type": "code",
   "execution_count": 17,
   "metadata": {},
   "outputs": [
    {
     "data": {
      "text/plain": [
       "False"
      ]
     },
     "execution_count": 17,
     "metadata": {},
     "output_type": "execute_result"
    }
   ],
   "source": [
    "problem_data_df[problem_data_df['points'].isnull()]['level_type'].isnull().all()"
   ]
  },
  {
   "cell_type": "code",
   "execution_count": 18,
   "metadata": {},
   "outputs": [
    {
     "data": {
      "text/plain": [
       "False"
      ]
     },
     "execution_count": 18,
     "metadata": {},
     "output_type": "execute_result"
    }
   ],
   "source": [
    "problem_data_df[problem_data_df['tags'].isnull()]['level_type'].isnull().all()"
   ]
  },
  {
   "cell_type": "code",
   "execution_count": 19,
   "metadata": {},
   "outputs": [
    {
     "data": {
      "text/plain": [
       "3403"
      ]
     },
     "execution_count": 19,
     "metadata": {},
     "output_type": "execute_result"
    }
   ],
   "source": [
    "problem_data_df[problem_data_df['points'].isnull()]['tags'].isnull().sum()"
   ]
  },
  {
   "cell_type": "markdown",
   "metadata": {},
   "source": [
    "### Observation:\n",
    "\n",
    "- If points is NaN then tag is also not NaN always and vice versa\n",
    "- 3403 problems where both are NaN "
   ]
  },
  {
   "cell_type": "code",
   "execution_count": 20,
   "metadata": {},
   "outputs": [],
   "source": [
    "def encode_tags(df):\n",
    "    df['tags'].fillna(\"UNKNOWN\",inplace=True)\n",
    "    df['tags_test'] = df['tags'].apply(lambda x: [str(i) for i in x.split(',')])\n",
    "    tag_list = df[\"tags_test\"].tolist()\n",
    "    \n",
    "    merged = list(itertools.chain(*tag_list))\n",
    "    unique_tags_list=list(set(merged))\n",
    "    \n",
    "    for i in range(len(unique_tags_list)):\n",
    "        df[unique_tags_list[i]+\"_tag\"]=0\n",
    "    \n",
    "    for index, row in df.iterrows():\n",
    "        for j in range(len(row[\"tags_test\"])):\n",
    "            df.loc[index, row[\"tags_test\"][j]+\"_tag\"] = 1\n",
    "            \n",
    "    df.drop([\"tags_test\"],inplace=True,axis=1)\n",
    "    \n",
    "    return df\n",
    "    "
   ]
  },
  {
   "cell_type": "code",
   "execution_count": 21,
   "metadata": {},
   "outputs": [],
   "source": [
    "problem_data_df=encode_tags(problem_data_df)"
   ]
  },
  {
   "cell_type": "code",
   "execution_count": 22,
   "metadata": {},
   "outputs": [
    {
     "data": {
      "text/html": [
       "<div>\n",
       "<style scoped>\n",
       "    .dataframe tbody tr th:only-of-type {\n",
       "        vertical-align: middle;\n",
       "    }\n",
       "\n",
       "    .dataframe tbody tr th {\n",
       "        vertical-align: top;\n",
       "    }\n",
       "\n",
       "    .dataframe thead th {\n",
       "        text-align: right;\n",
       "    }\n",
       "</style>\n",
       "<table border=\"1\" class=\"dataframe\">\n",
       "  <thead>\n",
       "    <tr style=\"text-align: right;\">\n",
       "      <th></th>\n",
       "      <th>problem_id</th>\n",
       "      <th>level_type</th>\n",
       "      <th>points</th>\n",
       "      <th>tags</th>\n",
       "      <th>constructive algorithms_tag</th>\n",
       "      <th>math_tag</th>\n",
       "      <th>binary search_tag</th>\n",
       "      <th>combinatorics_tag</th>\n",
       "      <th>brute force_tag</th>\n",
       "      <th>geometry_tag</th>\n",
       "      <th>...</th>\n",
       "      <th>matrices_tag</th>\n",
       "      <th>dfs and similar_tag</th>\n",
       "      <th>graph matchings_tag</th>\n",
       "      <th>games_tag</th>\n",
       "      <th>data structures_tag</th>\n",
       "      <th>graphs_tag</th>\n",
       "      <th>number theory_tag</th>\n",
       "      <th>2-sat_tag</th>\n",
       "      <th>sortings_tag</th>\n",
       "      <th>meet-in-the-middle_tag</th>\n",
       "    </tr>\n",
       "  </thead>\n",
       "  <tbody>\n",
       "    <tr>\n",
       "      <td>0</td>\n",
       "      <td>prob_3649</td>\n",
       "      <td>H</td>\n",
       "      <td>NaN</td>\n",
       "      <td>UNKNOWN</td>\n",
       "      <td>0</td>\n",
       "      <td>0</td>\n",
       "      <td>0</td>\n",
       "      <td>0</td>\n",
       "      <td>0</td>\n",
       "      <td>0</td>\n",
       "      <td>...</td>\n",
       "      <td>0</td>\n",
       "      <td>0</td>\n",
       "      <td>0</td>\n",
       "      <td>0</td>\n",
       "      <td>0</td>\n",
       "      <td>0</td>\n",
       "      <td>0</td>\n",
       "      <td>0</td>\n",
       "      <td>0</td>\n",
       "      <td>0</td>\n",
       "    </tr>\n",
       "    <tr>\n",
       "      <td>1</td>\n",
       "      <td>prob_6191</td>\n",
       "      <td>A</td>\n",
       "      <td>NaN</td>\n",
       "      <td>UNKNOWN</td>\n",
       "      <td>0</td>\n",
       "      <td>0</td>\n",
       "      <td>0</td>\n",
       "      <td>0</td>\n",
       "      <td>0</td>\n",
       "      <td>0</td>\n",
       "      <td>...</td>\n",
       "      <td>0</td>\n",
       "      <td>0</td>\n",
       "      <td>0</td>\n",
       "      <td>0</td>\n",
       "      <td>0</td>\n",
       "      <td>0</td>\n",
       "      <td>0</td>\n",
       "      <td>0</td>\n",
       "      <td>0</td>\n",
       "      <td>0</td>\n",
       "    </tr>\n",
       "    <tr>\n",
       "      <td>2</td>\n",
       "      <td>prob_2020</td>\n",
       "      <td>F</td>\n",
       "      <td>NaN</td>\n",
       "      <td>UNKNOWN</td>\n",
       "      <td>0</td>\n",
       "      <td>0</td>\n",
       "      <td>0</td>\n",
       "      <td>0</td>\n",
       "      <td>0</td>\n",
       "      <td>0</td>\n",
       "      <td>...</td>\n",
       "      <td>0</td>\n",
       "      <td>0</td>\n",
       "      <td>0</td>\n",
       "      <td>0</td>\n",
       "      <td>0</td>\n",
       "      <td>0</td>\n",
       "      <td>0</td>\n",
       "      <td>0</td>\n",
       "      <td>0</td>\n",
       "      <td>0</td>\n",
       "    </tr>\n",
       "    <tr>\n",
       "      <td>3</td>\n",
       "      <td>prob_313</td>\n",
       "      <td>A</td>\n",
       "      <td>500.0</td>\n",
       "      <td>greedy,implementation</td>\n",
       "      <td>0</td>\n",
       "      <td>0</td>\n",
       "      <td>0</td>\n",
       "      <td>0</td>\n",
       "      <td>0</td>\n",
       "      <td>0</td>\n",
       "      <td>...</td>\n",
       "      <td>0</td>\n",
       "      <td>0</td>\n",
       "      <td>0</td>\n",
       "      <td>0</td>\n",
       "      <td>0</td>\n",
       "      <td>0</td>\n",
       "      <td>0</td>\n",
       "      <td>0</td>\n",
       "      <td>0</td>\n",
       "      <td>0</td>\n",
       "    </tr>\n",
       "    <tr>\n",
       "      <td>4</td>\n",
       "      <td>prob_101</td>\n",
       "      <td>A</td>\n",
       "      <td>500.0</td>\n",
       "      <td>constructive algorithms,greedy,math</td>\n",
       "      <td>1</td>\n",
       "      <td>1</td>\n",
       "      <td>0</td>\n",
       "      <td>0</td>\n",
       "      <td>0</td>\n",
       "      <td>0</td>\n",
       "      <td>...</td>\n",
       "      <td>0</td>\n",
       "      <td>0</td>\n",
       "      <td>0</td>\n",
       "      <td>0</td>\n",
       "      <td>0</td>\n",
       "      <td>0</td>\n",
       "      <td>0</td>\n",
       "      <td>0</td>\n",
       "      <td>0</td>\n",
       "      <td>0</td>\n",
       "    </tr>\n",
       "  </tbody>\n",
       "</table>\n",
       "<p>5 rows × 41 columns</p>\n",
       "</div>"
      ],
      "text/plain": [
       "  problem_id level_type  points                                 tags  \\\n",
       "0  prob_3649          H     NaN                              UNKNOWN   \n",
       "1  prob_6191          A     NaN                              UNKNOWN   \n",
       "2  prob_2020          F     NaN                              UNKNOWN   \n",
       "3   prob_313          A   500.0                greedy,implementation   \n",
       "4   prob_101          A   500.0  constructive algorithms,greedy,math   \n",
       "\n",
       "   constructive algorithms_tag  math_tag  binary search_tag  \\\n",
       "0                            0         0                  0   \n",
       "1                            0         0                  0   \n",
       "2                            0         0                  0   \n",
       "3                            0         0                  0   \n",
       "4                            1         1                  0   \n",
       "\n",
       "   combinatorics_tag  brute force_tag  geometry_tag  ...  matrices_tag  \\\n",
       "0                  0                0             0  ...             0   \n",
       "1                  0                0             0  ...             0   \n",
       "2                  0                0             0  ...             0   \n",
       "3                  0                0             0  ...             0   \n",
       "4                  0                0             0  ...             0   \n",
       "\n",
       "   dfs and similar_tag  graph matchings_tag  games_tag  data structures_tag  \\\n",
       "0                    0                    0          0                    0   \n",
       "1                    0                    0          0                    0   \n",
       "2                    0                    0          0                    0   \n",
       "3                    0                    0          0                    0   \n",
       "4                    0                    0          0                    0   \n",
       "\n",
       "   graphs_tag  number theory_tag  2-sat_tag  sortings_tag  \\\n",
       "0           0                  0          0             0   \n",
       "1           0                  0          0             0   \n",
       "2           0                  0          0             0   \n",
       "3           0                  0          0             0   \n",
       "4           0                  0          0             0   \n",
       "\n",
       "   meet-in-the-middle_tag  \n",
       "0                       0  \n",
       "1                       0  \n",
       "2                       0  \n",
       "3                       0  \n",
       "4                       0  \n",
       "\n",
       "[5 rows x 41 columns]"
      ]
     },
     "execution_count": 22,
     "metadata": {},
     "output_type": "execute_result"
    }
   ],
   "source": [
    "problem_data_df.head()"
   ]
  },
  {
   "cell_type": "code",
   "execution_count": 23,
   "metadata": {},
   "outputs": [
    {
     "data": {
      "text/plain": [
       "level_type\n",
       "A    3000.0\n",
       "B    3000.0\n",
       "C    3000.0\n",
       "D    3000.0\n",
       "E    5000.0\n",
       "F    3500.0\n",
       "G    3500.0\n",
       "H    3500.0\n",
       "I       NaN\n",
       "J       NaN\n",
       "K       NaN\n",
       "L       NaN\n",
       "M       NaN\n",
       "N       NaN\n",
       "Name: points, dtype: float64"
      ]
     },
     "execution_count": 23,
     "metadata": {},
     "output_type": "execute_result"
    }
   ],
   "source": [
    "problem_data_df.groupby(['level_type'])['points'].max()"
   ]
  },
  {
   "cell_type": "code",
   "execution_count": 24,
   "metadata": {},
   "outputs": [
    {
     "data": {
      "text/plain": [
       "level_type\n",
       "A       3.0\n",
       "B      -1.0\n",
       "C       8.0\n",
       "D     500.0\n",
       "E     500.0\n",
       "F     500.0\n",
       "G     500.0\n",
       "H    1500.0\n",
       "I       NaN\n",
       "J       NaN\n",
       "K       NaN\n",
       "L       NaN\n",
       "M       NaN\n",
       "N       NaN\n",
       "Name: points, dtype: float64"
      ]
     },
     "execution_count": 24,
     "metadata": {},
     "output_type": "execute_result"
    }
   ],
   "source": [
    "problem_data_df.groupby(['level_type'])['points'].min()"
   ]
  },
  {
   "cell_type": "code",
   "execution_count": 25,
   "metadata": {},
   "outputs": [
    {
     "data": {
      "text/plain": [
       "3917"
      ]
     },
     "execution_count": 25,
     "metadata": {},
     "output_type": "execute_result"
    }
   ],
   "source": [
    "problem_data_df['points'].isnull().sum()"
   ]
  },
  {
   "cell_type": "code",
   "execution_count": 26,
   "metadata": {},
   "outputs": [],
   "source": [
    "problem_data_df['points'] = np.where(~problem_data_df['level_type'].isin(['I','J','K','L','M','N']), problem_data_df['points'], 0)"
   ]
  },
  {
   "cell_type": "code",
   "execution_count": 27,
   "metadata": {},
   "outputs": [
    {
     "data": {
      "text/plain": [
       "3146"
      ]
     },
     "execution_count": 27,
     "metadata": {},
     "output_type": "execute_result"
    }
   ],
   "source": [
    "problem_data_df['points'].isnull().sum()"
   ]
  },
  {
   "cell_type": "code",
   "execution_count": 28,
   "metadata": {},
   "outputs": [],
   "source": [
    "problem_data_df['points'] = problem_data_df.groupby(['level_type'])['points'].apply(lambda x: x.fillna(x.mean()))"
   ]
  },
  {
   "cell_type": "code",
   "execution_count": 29,
   "metadata": {},
   "outputs": [
    {
     "data": {
      "text/html": [
       "<div>\n",
       "<style scoped>\n",
       "    .dataframe tbody tr th:only-of-type {\n",
       "        vertical-align: middle;\n",
       "    }\n",
       "\n",
       "    .dataframe tbody tr th {\n",
       "        vertical-align: top;\n",
       "    }\n",
       "\n",
       "    .dataframe thead th {\n",
       "        text-align: right;\n",
       "    }\n",
       "</style>\n",
       "<table border=\"1\" class=\"dataframe\">\n",
       "  <thead>\n",
       "    <tr style=\"text-align: right;\">\n",
       "      <th></th>\n",
       "      <th>problem_id</th>\n",
       "      <th>level_type</th>\n",
       "      <th>points</th>\n",
       "      <th>tags</th>\n",
       "      <th>constructive algorithms_tag</th>\n",
       "      <th>math_tag</th>\n",
       "      <th>binary search_tag</th>\n",
       "      <th>combinatorics_tag</th>\n",
       "      <th>brute force_tag</th>\n",
       "      <th>geometry_tag</th>\n",
       "      <th>...</th>\n",
       "      <th>matrices_tag</th>\n",
       "      <th>dfs and similar_tag</th>\n",
       "      <th>graph matchings_tag</th>\n",
       "      <th>games_tag</th>\n",
       "      <th>data structures_tag</th>\n",
       "      <th>graphs_tag</th>\n",
       "      <th>number theory_tag</th>\n",
       "      <th>2-sat_tag</th>\n",
       "      <th>sortings_tag</th>\n",
       "      <th>meet-in-the-middle_tag</th>\n",
       "    </tr>\n",
       "  </thead>\n",
       "  <tbody>\n",
       "    <tr>\n",
       "      <td>28</td>\n",
       "      <td>prob_3284</td>\n",
       "      <td>NaN</td>\n",
       "      <td>NaN</td>\n",
       "      <td>UNKNOWN</td>\n",
       "      <td>0</td>\n",
       "      <td>0</td>\n",
       "      <td>0</td>\n",
       "      <td>0</td>\n",
       "      <td>0</td>\n",
       "      <td>0</td>\n",
       "      <td>...</td>\n",
       "      <td>0</td>\n",
       "      <td>0</td>\n",
       "      <td>0</td>\n",
       "      <td>0</td>\n",
       "      <td>0</td>\n",
       "      <td>0</td>\n",
       "      <td>0</td>\n",
       "      <td>0</td>\n",
       "      <td>0</td>\n",
       "      <td>0</td>\n",
       "    </tr>\n",
       "    <tr>\n",
       "      <td>41</td>\n",
       "      <td>prob_4968</td>\n",
       "      <td>NaN</td>\n",
       "      <td>NaN</td>\n",
       "      <td>UNKNOWN</td>\n",
       "      <td>0</td>\n",
       "      <td>0</td>\n",
       "      <td>0</td>\n",
       "      <td>0</td>\n",
       "      <td>0</td>\n",
       "      <td>0</td>\n",
       "      <td>...</td>\n",
       "      <td>0</td>\n",
       "      <td>0</td>\n",
       "      <td>0</td>\n",
       "      <td>0</td>\n",
       "      <td>0</td>\n",
       "      <td>0</td>\n",
       "      <td>0</td>\n",
       "      <td>0</td>\n",
       "      <td>0</td>\n",
       "      <td>0</td>\n",
       "    </tr>\n",
       "    <tr>\n",
       "      <td>42</td>\n",
       "      <td>prob_704</td>\n",
       "      <td>NaN</td>\n",
       "      <td>NaN</td>\n",
       "      <td>UNKNOWN</td>\n",
       "      <td>0</td>\n",
       "      <td>0</td>\n",
       "      <td>0</td>\n",
       "      <td>0</td>\n",
       "      <td>0</td>\n",
       "      <td>0</td>\n",
       "      <td>...</td>\n",
       "      <td>0</td>\n",
       "      <td>0</td>\n",
       "      <td>0</td>\n",
       "      <td>0</td>\n",
       "      <td>0</td>\n",
       "      <td>0</td>\n",
       "      <td>0</td>\n",
       "      <td>0</td>\n",
       "      <td>0</td>\n",
       "      <td>0</td>\n",
       "    </tr>\n",
       "    <tr>\n",
       "      <td>88</td>\n",
       "      <td>prob_145</td>\n",
       "      <td>NaN</td>\n",
       "      <td>NaN</td>\n",
       "      <td>UNKNOWN</td>\n",
       "      <td>0</td>\n",
       "      <td>0</td>\n",
       "      <td>0</td>\n",
       "      <td>0</td>\n",
       "      <td>0</td>\n",
       "      <td>0</td>\n",
       "      <td>...</td>\n",
       "      <td>0</td>\n",
       "      <td>0</td>\n",
       "      <td>0</td>\n",
       "      <td>0</td>\n",
       "      <td>0</td>\n",
       "      <td>0</td>\n",
       "      <td>0</td>\n",
       "      <td>0</td>\n",
       "      <td>0</td>\n",
       "      <td>0</td>\n",
       "    </tr>\n",
       "    <tr>\n",
       "      <td>95</td>\n",
       "      <td>prob_4785</td>\n",
       "      <td>NaN</td>\n",
       "      <td>NaN</td>\n",
       "      <td>dp</td>\n",
       "      <td>0</td>\n",
       "      <td>0</td>\n",
       "      <td>0</td>\n",
       "      <td>0</td>\n",
       "      <td>0</td>\n",
       "      <td>0</td>\n",
       "      <td>...</td>\n",
       "      <td>0</td>\n",
       "      <td>0</td>\n",
       "      <td>0</td>\n",
       "      <td>0</td>\n",
       "      <td>0</td>\n",
       "      <td>0</td>\n",
       "      <td>0</td>\n",
       "      <td>0</td>\n",
       "      <td>0</td>\n",
       "      <td>0</td>\n",
       "    </tr>\n",
       "  </tbody>\n",
       "</table>\n",
       "<p>5 rows × 41 columns</p>\n",
       "</div>"
      ],
      "text/plain": [
       "   problem_id level_type  points     tags  constructive algorithms_tag  \\\n",
       "28  prob_3284        NaN     NaN  UNKNOWN                            0   \n",
       "41  prob_4968        NaN     NaN  UNKNOWN                            0   \n",
       "42   prob_704        NaN     NaN  UNKNOWN                            0   \n",
       "88   prob_145        NaN     NaN  UNKNOWN                            0   \n",
       "95  prob_4785        NaN     NaN       dp                            0   \n",
       "\n",
       "    math_tag  binary search_tag  combinatorics_tag  brute force_tag  \\\n",
       "28         0                  0                  0                0   \n",
       "41         0                  0                  0                0   \n",
       "42         0                  0                  0                0   \n",
       "88         0                  0                  0                0   \n",
       "95         0                  0                  0                0   \n",
       "\n",
       "    geometry_tag  ...  matrices_tag  dfs and similar_tag  graph matchings_tag  \\\n",
       "28             0  ...             0                    0                    0   \n",
       "41             0  ...             0                    0                    0   \n",
       "42             0  ...             0                    0                    0   \n",
       "88             0  ...             0                    0                    0   \n",
       "95             0  ...             0                    0                    0   \n",
       "\n",
       "    games_tag  data structures_tag  graphs_tag  number theory_tag  2-sat_tag  \\\n",
       "28          0                    0           0                  0          0   \n",
       "41          0                    0           0                  0          0   \n",
       "42          0                    0           0                  0          0   \n",
       "88          0                    0           0                  0          0   \n",
       "95          0                    0           0                  0          0   \n",
       "\n",
       "    sortings_tag  meet-in-the-middle_tag  \n",
       "28             0                       0  \n",
       "41             0                       0  \n",
       "42             0                       0  \n",
       "88             0                       0  \n",
       "95             0                       0  \n",
       "\n",
       "[5 rows x 41 columns]"
      ]
     },
     "execution_count": 29,
     "metadata": {},
     "output_type": "execute_result"
    }
   ],
   "source": [
    "problem_data_df[problem_data_df['points'].isnull()].head()"
   ]
  },
  {
   "cell_type": "code",
   "execution_count": 30,
   "metadata": {},
   "outputs": [
    {
     "data": {
      "text/plain": [
       "problem_id                         0\n",
       "level_type                       133\n",
       "points                           133\n",
       "tags                               0\n",
       "constructive algorithms_tag        0\n",
       "math_tag                           0\n",
       "binary search_tag                  0\n",
       "combinatorics_tag                  0\n",
       "brute force_tag                    0\n",
       "geometry_tag                       0\n",
       "expression parsing_tag             0\n",
       "hashing_tag                        0\n",
       "UNKNOWN_tag                        0\n",
       "shortest paths_tag                 0\n",
       "trees_tag                          0\n",
       "strings_tag                        0\n",
       "probabilities_tag                  0\n",
       "fft_tag                            0\n",
       "ternary search_tag                 0\n",
       "greedy_tag                         0\n",
       "string suffix structures_tag       0\n",
       "implementation_tag                 0\n",
       "bitmasks_tag                       0\n",
       "flows_tag                          0\n",
       "divide and conquer_tag             0\n",
       "chinese remainder theorem_tag      0\n",
       "*special_tag                       0\n",
       "dp_tag                             0\n",
       "two pointers_tag                   0\n",
       "schedules_tag                      0\n",
       "dsu_tag                            0\n",
       "matrices_tag                       0\n",
       "dfs and similar_tag                0\n",
       "graph matchings_tag                0\n",
       "games_tag                          0\n",
       "data structures_tag                0\n",
       "graphs_tag                         0\n",
       "number theory_tag                  0\n",
       "2-sat_tag                          0\n",
       "sortings_tag                       0\n",
       "meet-in-the-middle_tag             0\n",
       "dtype: int64"
      ]
     },
     "execution_count": 30,
     "metadata": {},
     "output_type": "execute_result"
    }
   ],
   "source": [
    "problem_data_df.isnull().sum()"
   ]
  },
  {
   "cell_type": "code",
   "execution_count": 31,
   "metadata": {},
   "outputs": [],
   "source": [
    "problem_data_df['level_type'].fillna('unknown',inplace=True)\n",
    "problem_data_df['points'].fillna(0,inplace=True)"
   ]
  },
  {
   "cell_type": "code",
   "execution_count": 32,
   "metadata": {},
   "outputs": [
    {
     "data": {
      "text/plain": [
       "problem_id                       0\n",
       "level_type                       0\n",
       "points                           0\n",
       "tags                             0\n",
       "constructive algorithms_tag      0\n",
       "math_tag                         0\n",
       "binary search_tag                0\n",
       "combinatorics_tag                0\n",
       "brute force_tag                  0\n",
       "geometry_tag                     0\n",
       "expression parsing_tag           0\n",
       "hashing_tag                      0\n",
       "UNKNOWN_tag                      0\n",
       "shortest paths_tag               0\n",
       "trees_tag                        0\n",
       "strings_tag                      0\n",
       "probabilities_tag                0\n",
       "fft_tag                          0\n",
       "ternary search_tag               0\n",
       "greedy_tag                       0\n",
       "string suffix structures_tag     0\n",
       "implementation_tag               0\n",
       "bitmasks_tag                     0\n",
       "flows_tag                        0\n",
       "divide and conquer_tag           0\n",
       "chinese remainder theorem_tag    0\n",
       "*special_tag                     0\n",
       "dp_tag                           0\n",
       "two pointers_tag                 0\n",
       "schedules_tag                    0\n",
       "dsu_tag                          0\n",
       "matrices_tag                     0\n",
       "dfs and similar_tag              0\n",
       "graph matchings_tag              0\n",
       "games_tag                        0\n",
       "data structures_tag              0\n",
       "graphs_tag                       0\n",
       "number theory_tag                0\n",
       "2-sat_tag                        0\n",
       "sortings_tag                     0\n",
       "meet-in-the-middle_tag           0\n",
       "dtype: int64"
      ]
     },
     "execution_count": 32,
     "metadata": {},
     "output_type": "execute_result"
    }
   ],
   "source": [
    "problem_data_df.isnull().sum()"
   ]
  },
  {
   "cell_type": "markdown",
   "metadata": {},
   "source": [
    "### Observation\n",
    "\n",
    "- Level_type \"I\",\"J\",\"K\",\"L\",\"M\",\"N\" have always null \"points\" values, might be of 0 points level_type categories\n",
    "- other level types are filled with mean value of points of their group\n",
    "- some level_types are null-- filling with uknown values\n",
    "- points with level_type other than  \"I\",\"J\",\"K\",\"L\",\"M\",\"N\" are filled with 0"
   ]
  },
  {
   "cell_type": "markdown",
   "metadata": {},
   "source": [
    "## User Data"
   ]
  },
  {
   "cell_type": "code",
   "execution_count": 33,
   "metadata": {},
   "outputs": [
    {
     "data": {
      "text/plain": [
       "3571"
      ]
     },
     "execution_count": 33,
     "metadata": {},
     "output_type": "execute_result"
    }
   ],
   "source": [
    "len(user_data_df['user_id'].unique())"
   ]
  },
  {
   "cell_type": "code",
   "execution_count": 34,
   "metadata": {},
   "outputs": [
    {
     "data": {
      "text/html": [
       "<div>\n",
       "<style scoped>\n",
       "    .dataframe tbody tr th:only-of-type {\n",
       "        vertical-align: middle;\n",
       "    }\n",
       "\n",
       "    .dataframe tbody tr th {\n",
       "        vertical-align: top;\n",
       "    }\n",
       "\n",
       "    .dataframe thead th {\n",
       "        text-align: right;\n",
       "    }\n",
       "</style>\n",
       "<table border=\"1\" class=\"dataframe\">\n",
       "  <thead>\n",
       "    <tr style=\"text-align: right;\">\n",
       "      <th></th>\n",
       "      <th>submission_count</th>\n",
       "      <th>problem_solved</th>\n",
       "      <th>contribution</th>\n",
       "      <th>follower_count</th>\n",
       "      <th>last_online_time_seconds</th>\n",
       "      <th>max_rating</th>\n",
       "      <th>rating</th>\n",
       "      <th>registration_time_seconds</th>\n",
       "    </tr>\n",
       "  </thead>\n",
       "  <tbody>\n",
       "    <tr>\n",
       "      <td>submission_count</td>\n",
       "      <td>1.000000</td>\n",
       "      <td>0.997825</td>\n",
       "      <td>0.431340</td>\n",
       "      <td>0.334935</td>\n",
       "      <td>0.293030</td>\n",
       "      <td>0.614162</td>\n",
       "      <td>0.552230</td>\n",
       "      <td>-0.506054</td>\n",
       "    </tr>\n",
       "    <tr>\n",
       "      <td>problem_solved</td>\n",
       "      <td>0.997825</td>\n",
       "      <td>1.000000</td>\n",
       "      <td>0.430580</td>\n",
       "      <td>0.336507</td>\n",
       "      <td>0.283622</td>\n",
       "      <td>0.614294</td>\n",
       "      <td>0.555153</td>\n",
       "      <td>-0.493901</td>\n",
       "    </tr>\n",
       "    <tr>\n",
       "      <td>contribution</td>\n",
       "      <td>0.431340</td>\n",
       "      <td>0.430580</td>\n",
       "      <td>1.000000</td>\n",
       "      <td>0.470153</td>\n",
       "      <td>0.121975</td>\n",
       "      <td>0.521726</td>\n",
       "      <td>0.456144</td>\n",
       "      <td>-0.353944</td>\n",
       "    </tr>\n",
       "    <tr>\n",
       "      <td>follower_count</td>\n",
       "      <td>0.334935</td>\n",
       "      <td>0.336507</td>\n",
       "      <td>0.470153</td>\n",
       "      <td>1.000000</td>\n",
       "      <td>0.092050</td>\n",
       "      <td>0.384030</td>\n",
       "      <td>0.331115</td>\n",
       "      <td>-0.266413</td>\n",
       "    </tr>\n",
       "    <tr>\n",
       "      <td>last_online_time_seconds</td>\n",
       "      <td>0.293030</td>\n",
       "      <td>0.283622</td>\n",
       "      <td>0.121975</td>\n",
       "      <td>0.092050</td>\n",
       "      <td>1.000000</td>\n",
       "      <td>0.211763</td>\n",
       "      <td>0.182762</td>\n",
       "      <td>-0.095490</td>\n",
       "    </tr>\n",
       "    <tr>\n",
       "      <td>max_rating</td>\n",
       "      <td>0.614162</td>\n",
       "      <td>0.614294</td>\n",
       "      <td>0.521726</td>\n",
       "      <td>0.384030</td>\n",
       "      <td>0.211763</td>\n",
       "      <td>1.000000</td>\n",
       "      <td>0.930799</td>\n",
       "      <td>-0.575060</td>\n",
       "    </tr>\n",
       "    <tr>\n",
       "      <td>rating</td>\n",
       "      <td>0.552230</td>\n",
       "      <td>0.555153</td>\n",
       "      <td>0.456144</td>\n",
       "      <td>0.331115</td>\n",
       "      <td>0.182762</td>\n",
       "      <td>0.930799</td>\n",
       "      <td>1.000000</td>\n",
       "      <td>-0.484886</td>\n",
       "    </tr>\n",
       "    <tr>\n",
       "      <td>registration_time_seconds</td>\n",
       "      <td>-0.506054</td>\n",
       "      <td>-0.493901</td>\n",
       "      <td>-0.353944</td>\n",
       "      <td>-0.266413</td>\n",
       "      <td>-0.095490</td>\n",
       "      <td>-0.575060</td>\n",
       "      <td>-0.484886</td>\n",
       "      <td>1.000000</td>\n",
       "    </tr>\n",
       "  </tbody>\n",
       "</table>\n",
       "</div>"
      ],
      "text/plain": [
       "                           submission_count  problem_solved  contribution  \\\n",
       "submission_count                   1.000000        0.997825      0.431340   \n",
       "problem_solved                     0.997825        1.000000      0.430580   \n",
       "contribution                       0.431340        0.430580      1.000000   \n",
       "follower_count                     0.334935        0.336507      0.470153   \n",
       "last_online_time_seconds           0.293030        0.283622      0.121975   \n",
       "max_rating                         0.614162        0.614294      0.521726   \n",
       "rating                             0.552230        0.555153      0.456144   \n",
       "registration_time_seconds         -0.506054       -0.493901     -0.353944   \n",
       "\n",
       "                           follower_count  last_online_time_seconds  \\\n",
       "submission_count                 0.334935                  0.293030   \n",
       "problem_solved                   0.336507                  0.283622   \n",
       "contribution                     0.470153                  0.121975   \n",
       "follower_count                   1.000000                  0.092050   \n",
       "last_online_time_seconds         0.092050                  1.000000   \n",
       "max_rating                       0.384030                  0.211763   \n",
       "rating                           0.331115                  0.182762   \n",
       "registration_time_seconds       -0.266413                 -0.095490   \n",
       "\n",
       "                           max_rating    rating  registration_time_seconds  \n",
       "submission_count             0.614162  0.552230                  -0.506054  \n",
       "problem_solved               0.614294  0.555153                  -0.493901  \n",
       "contribution                 0.521726  0.456144                  -0.353944  \n",
       "follower_count               0.384030  0.331115                  -0.266413  \n",
       "last_online_time_seconds     0.211763  0.182762                  -0.095490  \n",
       "max_rating                   1.000000  0.930799                  -0.575060  \n",
       "rating                       0.930799  1.000000                  -0.484886  \n",
       "registration_time_seconds   -0.575060 -0.484886                   1.000000  "
      ]
     },
     "execution_count": 34,
     "metadata": {},
     "output_type": "execute_result"
    }
   ],
   "source": [
    "user_data_df.corr()"
   ]
  },
  {
   "cell_type": "code",
   "execution_count": 35,
   "metadata": {},
   "outputs": [
    {
     "data": {
      "image/png": "[encoded data removed]",
      "text/plain": [
       "<Figure size 432x288 with 1 Axes>"
      ]
     },
     "metadata": {
      "needs_background": "light"
     },
     "output_type": "display_data"
    }
   ],
   "source": [
    "ax = sns.countplot(user_data_df['rank'])\n",
    "ax.set(ylabel='Number of users ny Rank')\n",
    "plt.show()"
   ]
  },
  {
   "cell_type": "code",
   "execution_count": 36,
   "metadata": {},
   "outputs": [
    {
     "data": {
      "image/png": "[encoded data removed]",
      "text/plain": [
       "<Figure size 432x288 with 1 Axes>"
      ]
     },
     "metadata": {
      "needs_background": "light"
     },
     "output_type": "display_data"
    }
   ],
   "source": [
    "ax=sns.countplot(x=user_data_df['rank'], hue=user_data_df['country'], data=pd.melt(user_data_df))\n",
    "ax.set(ylabel='Number of users ny Rank')\n",
    "plt.show()"
   ]
  },
  {
   "cell_type": "code",
   "execution_count": 37,
   "metadata": {},
   "outputs": [],
   "source": [
    "user_data_df['conversion_rate']=user_data_df['problem_solved']/user_data_df['submission_count']"
   ]
  },
  {
   "cell_type": "code",
   "execution_count": 38,
   "metadata": {},
   "outputs": [
    {
     "data": {
      "text/plain": [
       "<matplotlib.axes._subplots.AxesSubplot at 0x7fbdfa7a02b0>"
      ]
     },
     "execution_count": 38,
     "metadata": {},
     "output_type": "execute_result"
    },
    {
     "data": {
      "image/png": "[encoded data removed]",
      "text/plain": [
       "<Figure size 432x288 with 1 Axes>"
      ]
     },
     "metadata": {
      "needs_background": "light"
     },
     "output_type": "display_data"
    }
   ],
   "source": [
    "user_data_df['conversion_rate'].hist()"
   ]
  },
  {
   "cell_type": "code",
   "execution_count": 39,
   "metadata": {},
   "outputs": [
    {
     "data": {
      "text/html": [
       "<div>\n",
       "<style scoped>\n",
       "    .dataframe tbody tr th:only-of-type {\n",
       "        vertical-align: middle;\n",
       "    }\n",
       "\n",
       "    .dataframe tbody tr th {\n",
       "        vertical-align: top;\n",
       "    }\n",
       "\n",
       "    .dataframe thead th {\n",
       "        text-align: right;\n",
       "    }\n",
       "</style>\n",
       "<table border=\"1\" class=\"dataframe\">\n",
       "  <thead>\n",
       "    <tr style=\"text-align: right;\">\n",
       "      <th></th>\n",
       "      <th>user_id</th>\n",
       "      <th>submission_count</th>\n",
       "      <th>problem_solved</th>\n",
       "      <th>contribution</th>\n",
       "      <th>country</th>\n",
       "      <th>follower_count</th>\n",
       "      <th>last_online_time_seconds</th>\n",
       "      <th>max_rating</th>\n",
       "      <th>rating</th>\n",
       "      <th>rank</th>\n",
       "      <th>registration_time_seconds</th>\n",
       "      <th>conversion_rate</th>\n",
       "    </tr>\n",
       "  </thead>\n",
       "  <tbody>\n",
       "    <tr>\n",
       "      <td>0</td>\n",
       "      <td>user_3311</td>\n",
       "      <td>47</td>\n",
       "      <td>40</td>\n",
       "      <td>0</td>\n",
       "      <td>NaN</td>\n",
       "      <td>4</td>\n",
       "      <td>1504111645</td>\n",
       "      <td>348.337</td>\n",
       "      <td>330.849</td>\n",
       "      <td>intermediate</td>\n",
       "      <td>1466686436</td>\n",
       "      <td>0.851064</td>\n",
       "    </tr>\n",
       "    <tr>\n",
       "      <td>1</td>\n",
       "      <td>user_3028</td>\n",
       "      <td>63</td>\n",
       "      <td>52</td>\n",
       "      <td>0</td>\n",
       "      <td>India</td>\n",
       "      <td>17</td>\n",
       "      <td>1498998165</td>\n",
       "      <td>405.677</td>\n",
       "      <td>339.450</td>\n",
       "      <td>intermediate</td>\n",
       "      <td>1441893325</td>\n",
       "      <td>0.825397</td>\n",
       "    </tr>\n",
       "    <tr>\n",
       "      <td>2</td>\n",
       "      <td>user_2268</td>\n",
       "      <td>226</td>\n",
       "      <td>203</td>\n",
       "      <td>-8</td>\n",
       "      <td>Egypt</td>\n",
       "      <td>24</td>\n",
       "      <td>1505566052</td>\n",
       "      <td>307.339</td>\n",
       "      <td>284.404</td>\n",
       "      <td>beginner</td>\n",
       "      <td>1454267603</td>\n",
       "      <td>0.898230</td>\n",
       "    </tr>\n",
       "    <tr>\n",
       "      <td>3</td>\n",
       "      <td>user_480</td>\n",
       "      <td>611</td>\n",
       "      <td>490</td>\n",
       "      <td>1</td>\n",
       "      <td>Ukraine</td>\n",
       "      <td>94</td>\n",
       "      <td>1505257499</td>\n",
       "      <td>525.803</td>\n",
       "      <td>471.330</td>\n",
       "      <td>advanced</td>\n",
       "      <td>1350720417</td>\n",
       "      <td>0.801964</td>\n",
       "    </tr>\n",
       "    <tr>\n",
       "      <td>4</td>\n",
       "      <td>user_650</td>\n",
       "      <td>504</td>\n",
       "      <td>479</td>\n",
       "      <td>12</td>\n",
       "      <td>Russia</td>\n",
       "      <td>4</td>\n",
       "      <td>1496613433</td>\n",
       "      <td>548.739</td>\n",
       "      <td>486.525</td>\n",
       "      <td>advanced</td>\n",
       "      <td>1395560498</td>\n",
       "      <td>0.950397</td>\n",
       "    </tr>\n",
       "  </tbody>\n",
       "</table>\n",
       "</div>"
      ],
      "text/plain": [
       "     user_id  submission_count  problem_solved  contribution  country  \\\n",
       "0  user_3311                47              40             0      NaN   \n",
       "1  user_3028                63              52             0    India   \n",
       "2  user_2268               226             203            -8    Egypt   \n",
       "3   user_480               611             490             1  Ukraine   \n",
       "4   user_650               504             479            12   Russia   \n",
       "\n",
       "   follower_count  last_online_time_seconds  max_rating   rating  \\\n",
       "0               4                1504111645     348.337  330.849   \n",
       "1              17                1498998165     405.677  339.450   \n",
       "2              24                1505566052     307.339  284.404   \n",
       "3              94                1505257499     525.803  471.330   \n",
       "4               4                1496613433     548.739  486.525   \n",
       "\n",
       "           rank  registration_time_seconds  conversion_rate  \n",
       "0  intermediate                 1466686436         0.851064  \n",
       "1  intermediate                 1441893325         0.825397  \n",
       "2      beginner                 1454267603         0.898230  \n",
       "3      advanced                 1350720417         0.801964  \n",
       "4      advanced                 1395560498         0.950397  "
      ]
     },
     "execution_count": 39,
     "metadata": {},
     "output_type": "execute_result"
    }
   ],
   "source": [
    "user_data_df.head()"
   ]
  },
  {
   "cell_type": "code",
   "execution_count": 40,
   "metadata": {},
   "outputs": [],
   "source": [
    "user_data_df['last_online_time_date'] = pd.to_datetime(user_data_df['last_online_time_seconds'],unit='s')\n",
    "user_data_df['registration_time_date'] = pd.to_datetime(user_data_df['registration_time_seconds'],unit='s')"
   ]
  },
  {
   "cell_type": "code",
   "execution_count": 41,
   "metadata": {},
   "outputs": [
    {
     "data": {
      "text/html": [
       "<div>\n",
       "<style scoped>\n",
       "    .dataframe tbody tr th:only-of-type {\n",
       "        vertical-align: middle;\n",
       "    }\n",
       "\n",
       "    .dataframe tbody tr th {\n",
       "        vertical-align: top;\n",
       "    }\n",
       "\n",
       "    .dataframe thead th {\n",
       "        text-align: right;\n",
       "    }\n",
       "</style>\n",
       "<table border=\"1\" class=\"dataframe\">\n",
       "  <thead>\n",
       "    <tr style=\"text-align: right;\">\n",
       "      <th></th>\n",
       "      <th>user_id</th>\n",
       "      <th>submission_count</th>\n",
       "      <th>problem_solved</th>\n",
       "      <th>contribution</th>\n",
       "      <th>country</th>\n",
       "      <th>follower_count</th>\n",
       "      <th>last_online_time_seconds</th>\n",
       "      <th>max_rating</th>\n",
       "      <th>rating</th>\n",
       "      <th>rank</th>\n",
       "      <th>registration_time_seconds</th>\n",
       "      <th>conversion_rate</th>\n",
       "      <th>last_online_time_date</th>\n",
       "      <th>registration_time_date</th>\n",
       "    </tr>\n",
       "  </thead>\n",
       "  <tbody>\n",
       "    <tr>\n",
       "      <td>0</td>\n",
       "      <td>user_3311</td>\n",
       "      <td>47</td>\n",
       "      <td>40</td>\n",
       "      <td>0</td>\n",
       "      <td>NaN</td>\n",
       "      <td>4</td>\n",
       "      <td>1504111645</td>\n",
       "      <td>348.337</td>\n",
       "      <td>330.849</td>\n",
       "      <td>intermediate</td>\n",
       "      <td>1466686436</td>\n",
       "      <td>0.851064</td>\n",
       "      <td>2017-08-30 16:47:25</td>\n",
       "      <td>2016-06-23 12:53:56</td>\n",
       "    </tr>\n",
       "    <tr>\n",
       "      <td>1</td>\n",
       "      <td>user_3028</td>\n",
       "      <td>63</td>\n",
       "      <td>52</td>\n",
       "      <td>0</td>\n",
       "      <td>India</td>\n",
       "      <td>17</td>\n",
       "      <td>1498998165</td>\n",
       "      <td>405.677</td>\n",
       "      <td>339.450</td>\n",
       "      <td>intermediate</td>\n",
       "      <td>1441893325</td>\n",
       "      <td>0.825397</td>\n",
       "      <td>2017-07-02 12:22:45</td>\n",
       "      <td>2015-09-10 13:55:25</td>\n",
       "    </tr>\n",
       "    <tr>\n",
       "      <td>2</td>\n",
       "      <td>user_2268</td>\n",
       "      <td>226</td>\n",
       "      <td>203</td>\n",
       "      <td>-8</td>\n",
       "      <td>Egypt</td>\n",
       "      <td>24</td>\n",
       "      <td>1505566052</td>\n",
       "      <td>307.339</td>\n",
       "      <td>284.404</td>\n",
       "      <td>beginner</td>\n",
       "      <td>1454267603</td>\n",
       "      <td>0.898230</td>\n",
       "      <td>2017-09-16 12:47:32</td>\n",
       "      <td>2016-01-31 19:13:23</td>\n",
       "    </tr>\n",
       "    <tr>\n",
       "      <td>3</td>\n",
       "      <td>user_480</td>\n",
       "      <td>611</td>\n",
       "      <td>490</td>\n",
       "      <td>1</td>\n",
       "      <td>Ukraine</td>\n",
       "      <td>94</td>\n",
       "      <td>1505257499</td>\n",
       "      <td>525.803</td>\n",
       "      <td>471.330</td>\n",
       "      <td>advanced</td>\n",
       "      <td>1350720417</td>\n",
       "      <td>0.801964</td>\n",
       "      <td>2017-09-12 23:04:59</td>\n",
       "      <td>2012-10-20 08:06:57</td>\n",
       "    </tr>\n",
       "    <tr>\n",
       "      <td>4</td>\n",
       "      <td>user_650</td>\n",
       "      <td>504</td>\n",
       "      <td>479</td>\n",
       "      <td>12</td>\n",
       "      <td>Russia</td>\n",
       "      <td>4</td>\n",
       "      <td>1496613433</td>\n",
       "      <td>548.739</td>\n",
       "      <td>486.525</td>\n",
       "      <td>advanced</td>\n",
       "      <td>1395560498</td>\n",
       "      <td>0.950397</td>\n",
       "      <td>2017-06-04 21:57:13</td>\n",
       "      <td>2014-03-23 07:41:38</td>\n",
       "    </tr>\n",
       "  </tbody>\n",
       "</table>\n",
       "</div>"
      ],
      "text/plain": [
       "     user_id  submission_count  problem_solved  contribution  country  \\\n",
       "0  user_3311                47              40             0      NaN   \n",
       "1  user_3028                63              52             0    India   \n",
       "2  user_2268               226             203            -8    Egypt   \n",
       "3   user_480               611             490             1  Ukraine   \n",
       "4   user_650               504             479            12   Russia   \n",
       "\n",
       "   follower_count  last_online_time_seconds  max_rating   rating  \\\n",
       "0               4                1504111645     348.337  330.849   \n",
       "1              17                1498998165     405.677  339.450   \n",
       "2              24                1505566052     307.339  284.404   \n",
       "3              94                1505257499     525.803  471.330   \n",
       "4               4                1496613433     548.739  486.525   \n",
       "\n",
       "           rank  registration_time_seconds  conversion_rate  \\\n",
       "0  intermediate                 1466686436         0.851064   \n",
       "1  intermediate                 1441893325         0.825397   \n",
       "2      beginner                 1454267603         0.898230   \n",
       "3      advanced                 1350720417         0.801964   \n",
       "4      advanced                 1395560498         0.950397   \n",
       "\n",
       "  last_online_time_date registration_time_date  \n",
       "0   2017-08-30 16:47:25    2016-06-23 12:53:56  \n",
       "1   2017-07-02 12:22:45    2015-09-10 13:55:25  \n",
       "2   2017-09-16 12:47:32    2016-01-31 19:13:23  \n",
       "3   2017-09-12 23:04:59    2012-10-20 08:06:57  \n",
       "4   2017-06-04 21:57:13    2014-03-23 07:41:38  "
      ]
     },
     "execution_count": 41,
     "metadata": {},
     "output_type": "execute_result"
    }
   ],
   "source": [
    "user_data_df.head()"
   ]
  },
  {
   "cell_type": "code",
   "execution_count": 42,
   "metadata": {},
   "outputs": [],
   "source": [
    "user_data_df['days_active']=round((user_data_df['last_online_time_seconds']-user_data_df['registration_time_seconds'])/(60*60*24))"
   ]
  },
  {
   "cell_type": "code",
   "execution_count": 43,
   "metadata": {},
   "outputs": [],
   "source": [
    "user_data_df['country'].fillna('unknown',inplace=True)"
   ]
  },
  {
   "cell_type": "code",
   "execution_count": 44,
   "metadata": {},
   "outputs": [
    {
     "data": {
      "text/plain": [
       "user_id                      0\n",
       "submission_count             0\n",
       "problem_solved               0\n",
       "contribution                 0\n",
       "country                      0\n",
       "follower_count               0\n",
       "last_online_time_seconds     0\n",
       "max_rating                   0\n",
       "rating                       0\n",
       "rank                         0\n",
       "registration_time_seconds    0\n",
       "conversion_rate              0\n",
       "last_online_time_date        0\n",
       "registration_time_date       0\n",
       "days_active                  0\n",
       "dtype: int64"
      ]
     },
     "execution_count": 44,
     "metadata": {},
     "output_type": "execute_result"
    }
   ],
   "source": [
    "user_data_df.isnull().sum()"
   ]
  },
  {
   "cell_type": "markdown",
   "metadata": {},
   "source": [
    "## Train Data"
   ]
  },
  {
   "cell_type": "code",
   "execution_count": 45,
   "metadata": {},
   "outputs": [
    {
     "data": {
      "text/html": [
       "<div>\n",
       "<style scoped>\n",
       "    .dataframe tbody tr th:only-of-type {\n",
       "        vertical-align: middle;\n",
       "    }\n",
       "\n",
       "    .dataframe tbody tr th {\n",
       "        vertical-align: top;\n",
       "    }\n",
       "\n",
       "    .dataframe thead th {\n",
       "        text-align: right;\n",
       "    }\n",
       "</style>\n",
       "<table border=\"1\" class=\"dataframe\">\n",
       "  <thead>\n",
       "    <tr style=\"text-align: right;\">\n",
       "      <th></th>\n",
       "      <th>user_id</th>\n",
       "      <th>problem_id</th>\n",
       "      <th>attempts_range</th>\n",
       "    </tr>\n",
       "  </thead>\n",
       "  <tbody>\n",
       "    <tr>\n",
       "      <td>0</td>\n",
       "      <td>user_232</td>\n",
       "      <td>prob_6507</td>\n",
       "      <td>1</td>\n",
       "    </tr>\n",
       "    <tr>\n",
       "      <td>1</td>\n",
       "      <td>user_3568</td>\n",
       "      <td>prob_2994</td>\n",
       "      <td>3</td>\n",
       "    </tr>\n",
       "    <tr>\n",
       "      <td>2</td>\n",
       "      <td>user_1600</td>\n",
       "      <td>prob_5071</td>\n",
       "      <td>1</td>\n",
       "    </tr>\n",
       "    <tr>\n",
       "      <td>3</td>\n",
       "      <td>user_2256</td>\n",
       "      <td>prob_703</td>\n",
       "      <td>1</td>\n",
       "    </tr>\n",
       "    <tr>\n",
       "      <td>4</td>\n",
       "      <td>user_2321</td>\n",
       "      <td>prob_356</td>\n",
       "      <td>1</td>\n",
       "    </tr>\n",
       "  </tbody>\n",
       "</table>\n",
       "</div>"
      ],
      "text/plain": [
       "     user_id problem_id  attempts_range\n",
       "0   user_232  prob_6507               1\n",
       "1  user_3568  prob_2994               3\n",
       "2  user_1600  prob_5071               1\n",
       "3  user_2256   prob_703               1\n",
       "4  user_2321   prob_356               1"
      ]
     },
     "execution_count": 45,
     "metadata": {},
     "output_type": "execute_result"
    }
   ],
   "source": [
    "train_df.head()"
   ]
  },
  {
   "cell_type": "code",
   "execution_count": 46,
   "metadata": {},
   "outputs": [
    {
     "data": {
      "text/plain": [
       "3529"
      ]
     },
     "execution_count": 46,
     "metadata": {},
     "output_type": "execute_result"
    }
   ],
   "source": [
    "len(train_df['user_id'].unique())"
   ]
  },
  {
   "cell_type": "code",
   "execution_count": 47,
   "metadata": {},
   "outputs": [
    {
     "data": {
      "text/plain": [
       "5776"
      ]
     },
     "execution_count": 47,
     "metadata": {},
     "output_type": "execute_result"
    }
   ],
   "source": [
    "len(train_df['problem_id'].unique())"
   ]
  },
  {
   "cell_type": "code",
   "execution_count": 48,
   "metadata": {},
   "outputs": [
    {
     "data": {
      "image/png": "[encoded data removed]",
      "text/plain": [
       "<Figure size 864x216 with 2 Axes>"
      ]
     },
     "metadata": {
      "needs_background": "light"
     },
     "output_type": "display_data"
    }
   ],
   "source": [
    "f,ax=plt.subplots(1,2,figsize=(12,3))\n",
    "train_df['attempts_range'].value_counts().plot.pie(explode=[0,0,0,0,0,0],autopct='%1.1f%%',ax=ax[0],shadow=True)\n",
    "ax[0].set_title('attempts_range')\n",
    "ax[0].set_ylabel('')\n",
    "sns.countplot('attempts_range',data=train_df,ax=ax[1])\n",
    "ax[1].set_title('attempts_range')\n",
    "plt.show()"
   ]
  },
  {
   "cell_type": "code",
   "execution_count": 49,
   "metadata": {},
   "outputs": [
    {
     "data": {
      "text/plain": [
       "user_id\n",
       "user_1888      1\n",
       "user_451       1\n",
       "user_3306      1\n",
       "user_2366      1\n",
       "user_102       1\n",
       "            ... \n",
       "user_1232    102\n",
       "user_2744    104\n",
       "user_734     104\n",
       "user_1009    105\n",
       "user_28      105\n",
       "Name: problem_id, Length: 3529, dtype: int64"
      ]
     },
     "execution_count": 49,
     "metadata": {},
     "output_type": "execute_result"
    }
   ],
   "source": [
    "train_df.groupby(\"user_id\")['problem_id'].count().sort_values(ascending=True)"
   ]
  },
  {
   "cell_type": "markdown",
   "metadata": {},
   "source": [
    "### Observation\n",
    "\n",
    "- Some users worked on more than 1 problem"
   ]
  },
  {
   "cell_type": "markdown",
   "metadata": {},
   "source": [
    "## Test Data"
   ]
  },
  {
   "cell_type": "code",
   "execution_count": 50,
   "metadata": {},
   "outputs": [
    {
     "data": {
      "text/html": [
       "<div>\n",
       "<style scoped>\n",
       "    .dataframe tbody tr th:only-of-type {\n",
       "        vertical-align: middle;\n",
       "    }\n",
       "\n",
       "    .dataframe tbody tr th {\n",
       "        vertical-align: top;\n",
       "    }\n",
       "\n",
       "    .dataframe thead th {\n",
       "        text-align: right;\n",
       "    }\n",
       "</style>\n",
       "<table border=\"1\" class=\"dataframe\">\n",
       "  <thead>\n",
       "    <tr style=\"text-align: right;\">\n",
       "      <th></th>\n",
       "      <th>ID</th>\n",
       "      <th>user_id</th>\n",
       "      <th>problem_id</th>\n",
       "    </tr>\n",
       "  </thead>\n",
       "  <tbody>\n",
       "    <tr>\n",
       "      <td>0</td>\n",
       "      <td>user_856_prob_5822</td>\n",
       "      <td>user_856</td>\n",
       "      <td>prob_5822</td>\n",
       "    </tr>\n",
       "    <tr>\n",
       "      <td>1</td>\n",
       "      <td>user_2642_prob_2334</td>\n",
       "      <td>user_2642</td>\n",
       "      <td>prob_2334</td>\n",
       "    </tr>\n",
       "    <tr>\n",
       "      <td>2</td>\n",
       "      <td>user_2557_prob_2920</td>\n",
       "      <td>user_2557</td>\n",
       "      <td>prob_2920</td>\n",
       "    </tr>\n",
       "    <tr>\n",
       "      <td>3</td>\n",
       "      <td>user_1572_prob_4598</td>\n",
       "      <td>user_1572</td>\n",
       "      <td>prob_4598</td>\n",
       "    </tr>\n",
       "    <tr>\n",
       "      <td>4</td>\n",
       "      <td>user_295_prob_6139</td>\n",
       "      <td>user_295</td>\n",
       "      <td>prob_6139</td>\n",
       "    </tr>\n",
       "  </tbody>\n",
       "</table>\n",
       "</div>"
      ],
      "text/plain": [
       "                    ID    user_id problem_id\n",
       "0   user_856_prob_5822   user_856  prob_5822\n",
       "1  user_2642_prob_2334  user_2642  prob_2334\n",
       "2  user_2557_prob_2920  user_2557  prob_2920\n",
       "3  user_1572_prob_4598  user_1572  prob_4598\n",
       "4   user_295_prob_6139   user_295  prob_6139"
      ]
     },
     "execution_count": 50,
     "metadata": {},
     "output_type": "execute_result"
    }
   ],
   "source": [
    "test_df.head()"
   ]
  }
 ],
 "metadata": {
  "kernelspec": {
   "display_name": "Python 3",
   "language": "python",
   "name": "python3"
  },
  "language_info": {
   "codemirror_mode": {
    "name": "ipython",
    "version": 3
   },
   "file_extension": ".py",
   "mimetype": "text/x-python",
   "name": "python",
   "nbconvert_exporter": "python",
   "pygments_lexer": "ipython3",
   "version": "3.6.6"
  }
 },
 "nbformat": 4,
 "nbformat_minor": 2
}
